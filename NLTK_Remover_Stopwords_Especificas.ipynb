{
  "nbformat": 4,
  "nbformat_minor": 0,
  "metadata": {
    "colab": {
      "provenance": [],
      "authorship_tag": "ABX9TyNb2Ikc9X7jvtYDF9jH5qDi"
    },
    "kernelspec": {
      "name": "python3",
      "display_name": "Python 3"
    },
    "language_info": {
      "name": "python"
    }
  },
  "cells": [
    {
      "cell_type": "code",
      "execution_count": 1,
      "metadata": {
        "colab": {
          "base_uri": "https://localhost:8080/"
        },
        "id": "C_OWcgjclVHq",
        "outputId": "0b24f1f7-cba9-4ca2-bf60-7a5a6be96758"
      },
      "outputs": [
        {
          "output_type": "stream",
          "name": "stderr",
          "text": [
            "[nltk_data] Downloading package stopwords to /root/nltk_data...\n",
            "[nltk_data]   Unzipping corpora/stopwords.zip.\n",
            "[nltk_data] Downloading package punkt to /root/nltk_data...\n",
            "[nltk_data]   Unzipping tokenizers/punkt.zip.\n"
          ]
        },
        {
          "output_type": "stream",
          "name": "stdout",
          "text": [
            "Todas:  {'.', 'esses', 'meus', 'são', 'serão', 'ela', 'tive', 'estivessem', 'houvessem', 'já', 'há', 'nosso', 'vocês', 'seja', 'será', 'delas', 'estejam', 'tivéssemos', 'este', 'seu', 'teriam', 'temos', 'as', 'tinham', 'te', 'lhe', 'tivemos', 'esse', 'isto', 'estas', 'inflação', 'eu', 'aqueles', 'tiver', 'nossa', 'houveram', 'quem', 'tivera', 'tiverem', 'houve', 'à', 'fui', 'num', 'forem', 'estivéssemos', 'se', 'sou', 'minhas', 'houvéssemos', 'suas', 'estão', 'baixa', 'seremos', 'tua', 'mesmo', 'tivesse', 'aquelas', 'houverá', 'era', 'estivesse', 'tenhamos', 'tenho', 'teria', 'houverei', 'foi', 'pelos', 'meu', 'quando', 'éramos', 'for', 'teus', 'sejamos', 'estivera', 'que', 'esteve', 'tiveram', 'com', 'isso', 'houvera', 'o', 'qual', 'houverão', 'tivéramos', 'sem', 'houveremos', 'só', 'estejamos', 'eles', 'entre', 'estive', 'estiver', 'haja', 'ao', 'nos', 'na', 'seus', 'os', 'você', 'vos', 'hei', 'tinha', 'no', 'serei', 'até', 'está', 'do', 'esteja', 'estar', 'numa', 'minha', 'tuas', 'depois', 'formos', 'muito', 'hajam', 'me', 'não', 'pelo', 'houver', 'hajamos', 'aquela', 'ou', 'elas', 'estiveram', 'estivermos', 'houveríamos', 'e', 'houvemos', 'nossas', 'seria', 'aquilo', 'nem', 'houvermos', 'houverem', 'havemos', 'é', 'deles', 'terão', 'estamos', 'terá', ',', 'tém', 'somos', 'sejam', 'mas', 'essa', 'sua', 'seriam', 'nas', 'estiverem', 'fora', 'tenha', 'dos', 'essas', 'fosse', 'ele', 'fomos', 'às', 'para', 'estivéramos', 'houveria', 'terei', 'teríamos', 'tivessem', '%', 'houvéramos', 'houveriam', 'teremos', 'hão', 'seríamos', 'estava', 'ser', 'houvesse', 'aquele', 'estes', 'dela', 'foram', 'estávamos', 'de', 'tínhamos', 'pelas', 'das', 'teve', 'da', 'nossos', 'a', 'esta', 'fossem', 'eram', 'também', 'por', 'tu', 'um', 'lhes', 'estivemos', 'nós', 'tivermos', 'uma', 'fôssemos', 'aos', 'estou', 'teu', 'mais', 'fôramos', 'dele', 'haver', 'estavam', 'como', 'em', 'tem', 'pela', 'tenham'}\n",
            "Removido:  ['com', 'a', 'baixa', 'na', 'inflação', ',', 'o', 'de', 'foi', 'de', 'para', 'da', '.', 'o', 'do', ',', 'o', ',', 'o', 'com', 'de', '%', ',', 'mas', 'muito', 'mais', 'que', 'isso', '.', 'foi', 'a', 'que', 'mais', ',', 'das', 'que', 'o', 'do', ',', 'quando', 'houve', 'a', 'do', 'de', 'dos', '.', 'na', ',', 'também', 'estão', 'a', ',', 'da', ',', 'e', 'as', 'e', '.', 'foram', 'as', 'da', 'no', 'e', 'de']\n",
            "Mantido: ['mês', 'agosto', 'recuperação', 'muitas', 'ações', 'bolsa', 'índice', 'mercado', 'ibovespa', 'terminou', 'mês', 'alta', '7,04', 'algumas', 'ações', 'subiram', 'magazine', 'luíza', '(', 'mglu3', ')', 'conseguiu', 'crescer', 'compensando', 'parte', 'perdas', 'vem', 'sofrendo', 'desde', 'meio', 'ano', 'passado', 'retomada', 'ciclo', 'alta', 'juros', 'lista', 'concorrente', 'via', 'dona', 'casas', 'bahia', 'companhias', 'aéreas', 'azul', 'gol', 'veja', 'abaixo', 'quais', 'maiores', 'altas', 'bolsa', 'mês', 'quais', 'cuidados', 'tomar', 'antes', 'investir', '...']\n"
          ]
        }
      ],
      "source": [
        "import nltk\n",
        "from nltk.corpus import stopwords\n",
        "from nltk.tokenize import sent_tokenize, word_tokenize\n",
        "from nltk.corpus import stopwords\n",
        "\n",
        "nltk.download('stopwords')\n",
        "nltk.download('punkt')\n",
        "\n",
        "\n",
        "data = \"Com a baixa na inflação, o mês de agosto foi de recuperação para muitas ações da Bolsa. O índice do mercado, o Ibovespa, terminou o mês com alta de 7,04%, mas algumas ações subiram muito mais que isso. Magazine Luíza (MGLU3) foi a que mais conseguiu crescer, compensando parte das perdas que vem sofrendo desde o meio do ano passado, quando houve a retomada do ciclo de alta dos juros. Na lista, também estão a concorrente Via, dona da Casas Bahia, e as companhias aéreas Azul e Gol. Veja abaixo quais foram as maiores altas da Bolsa no mês e quais cuidados tomar antes de investir...\" #Texto copiado desta página: https://economia.uol.com.br/mais/ultimas-noticias/2022/09/04/as-maiores-altas-da-bolsa-em-agosto-varejo-se-recupera.htm\n",
        "data = data.lower() #transforma todo o texto para minusculo\n",
        "\n",
        "stopWords = set(stopwords.words('portuguese'))\n",
        "words = word_tokenize(data)\n",
        "wordsFiltered = []\n",
        "wordsRemoved = []\n",
        "\n",
        "new_stopwords = [\"baixa\", \"inflação\", \",\", \".\", \"%\"] #Novas palavras para serem removidas da lista padrão\n",
        "stopWords.update(new_stopwords) #Atualização da lista padrão, adicionando as novas palavras \n",
        "\n",
        "print(\"Todas: \", stopWords) #Impressão de todas as Stopwords (padrão do pacote + novas palavras)\n",
        "\n",
        "for w in words:\n",
        "    if w not in stopWords:\n",
        "        wordsFiltered.append(w)\n",
        "    else:\n",
        "        wordsRemoved.append(w)      \n",
        "\n",
        "print(\"Removido: \", wordsRemoved) #Impressão de todas as Stopwords removidas do texto\n",
        "print(\"Mantido:\", wordsFiltered) #Impressão das palavras que foram mantidas no texto"
      ]
    }
  ]
}
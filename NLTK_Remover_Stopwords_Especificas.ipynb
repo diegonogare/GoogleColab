{
  "nbformat": 4,
  "nbformat_minor": 0,
  "metadata": {
    "colab": {
      "provenance": [],
      "authorship_tag": "ABX9TyPPeHV2CzusxlHsano9o4kd"
    },
    "kernelspec": {
      "name": "python3",
      "display_name": "Python 3"
    },
    "language_info": {
      "name": "python"
    }
  },
  "cells": [
    {
      "cell_type": "code",
      "execution_count": 2,
      "metadata": {
        "colab": {
          "base_uri": "https://localhost:8080/"
        },
        "id": "C_OWcgjclVHq",
        "outputId": "d0951050-48b4-4d2d-a638-ce28ae47b197"
      },
      "outputs": [
        {
          "output_type": "stream",
          "name": "stderr",
          "text": [
            "[nltk_data] Downloading package stopwords to /root/nltk_data...\n",
            "[nltk_data]   Unzipping corpora/stopwords.zip.\n",
            "[nltk_data] Downloading package punkt to /root/nltk_data...\n",
            "[nltk_data]   Unzipping tokenizers/punkt.zip.\n"
          ]
        },
        {
          "output_type": "stream",
          "name": "stdout",
          "text": [
            "{'hajamos', 'pela', 'dele', 'estávamos', 'da', 'éramos', 'delas', 'será', 'tém', 'estiverem', 'tiveram', 'para', 'esteve', 'tivéramos', 'estiver', 'estivera', 'esteja', 'no', 'fôramos', 'houverão', 'mais', 'formos', 'tiverem', 'minha', 'terá', 'isto', 'pelas', 'estivermos', 'tenham', 'estar', 'tinham', 'fosse', '.', 'há', 'quando', 'tenha', 'houve', 'seus', 'mas', 'for', 'houverem', 'estou', 'houverá', 'tínhamos', 'seja', 'tenho', 'tivessem', 'inflação', 'seríamos', 'fôssemos', 'esse', 'já', 'estes', 'hei', 'houvemos', 'tivesse', 'sejam', 'lhes', 'o', 'aos', 'houvesse', 'meu', 'pelos', 'deles', 'que', 'forem', 'nossas', 'estavam', 'teremos', 'fomos', 'essa', 'houveria', 'eram', 'ele', 'tivéssemos', 'tivermos', 'mesmo', 'ser', 'estivemos', 'foi', 'estive', 'qual', 'isso', 'tinha', 'estamos', 'muito', 'sejamos', 'fui', 'lhe', 'é', 'foram', 'me', 'por', 'tive', 'numa', 'um', 'às', 'houvera', 'das', 'seu', 'tenhamos', 'vocês', 'aquela', 'aquilo', 'hão', 'à', 'estava', 'houveriam', 'nosso', 'você', 'minhas', 'quem', 'em', 'as', 'houveram', 'houveríamos', 'entre', 'te', 'havemos', 'teu', 'estivéramos', 'nos', 'elas', 'são', 'haver', 'terão', 'eles', 'só', 'era', ',', 'meus', 'como', 'houvermos', 'estão', 'fossem', 'a', 'aqueles', 'se', 'tu', 'haja', 'aquelas', 'uma', 'suas', 'estas', 'dos', 'nem', 'estejamos', 'ela', 'também', 'tua', 'teve', 'os', 'baixa', 'seria', 'estivéssemos', 'estivesse', 'dela', 'pelo', 'esses', 'aquele', 'estiveram', 'num', 'tivemos', 'e', 'tiver', 'seremos', 'estivessem', 'teria', 'houverei', 'houvéssemos', 'tem', 'nossa', 'sou', 'teríamos', 'ou', 'esta', 'fora', 'nossos', 'este', 'com', 'sem', 'serão', 'seriam', 'houvessem', 'tivera', 'depois', 'hajam', 'temos', 'teriam', 'tuas', 'ao', 'está', 'eu', 'nós', 'teus', 'houvéramos', 'estejam', 'na', 'terei', 'de', 'do', 'somos', 'não', 'houveremos', 'essas', 'nas', 'serei', 'sua', 'houver', 'até', 'vos'}\n",
            "Removido:  ['com', 'a', 'baixa', 'na', 'inflação', ',', 'o', 'de', 'foi', 'de', 'para', 'da', '.', 'o', 'do', ',', 'o', ',', 'o', 'com', 'de', ',', 'mas', 'muito', 'mais', 'que', 'isso', '.', 'foi', 'a', 'que', 'mais', ',', 'das', 'que', 'o', 'do', ',', 'quando', 'houve', 'a', 'do', 'de', 'dos', '.', 'na', ',', 'também', 'estão', 'a', ',', 'da', ',', 'e', 'as', 'e', '.', 'foram', 'as', 'da', 'no', 'e', 'de']\n",
            "Mantido: ['mês', 'agosto', 'recuperação', 'muitas', 'ações', 'bolsa', 'índice', 'mercado', 'ibovespa', 'terminou', 'mês', 'alta', '7,04', '%', 'algumas', 'ações', 'subiram', 'magazine', 'luíza', '(', 'mglu3', ')', 'conseguiu', 'crescer', 'compensando', 'parte', 'perdas', 'vem', 'sofrendo', 'desde', 'meio', 'ano', 'passado', 'retomada', 'ciclo', 'alta', 'juros', 'lista', 'concorrente', 'via', 'dona', 'casas', 'bahia', 'companhias', 'aéreas', 'azul', 'gol', 'veja', 'abaixo', 'quais', 'maiores', 'altas', 'bolsa', 'mês', 'quais', 'cuidados', 'tomar', 'antes', 'investir', '...']\n"
          ]
        }
      ],
      "source": [
        "import nltk\n",
        "from nltk.corpus import stopwords\n",
        "from nltk.tokenize import sent_tokenize, word_tokenize\n",
        "from nltk.corpus import stopwords\n",
        "\n",
        "nltk.download('stopwords')\n",
        "nltk.download('punkt')\n",
        "\n",
        "data = \"Com a baixa na inflação, o mês de agosto foi de recuperação para muitas ações da Bolsa. O índice do mercado, o Ibovespa, terminou o mês com alta de 7,04%, mas algumas ações subiram muito mais que isso. Magazine Luíza (MGLU3) foi a que mais conseguiu crescer, compensando parte das perdas que vem sofrendo desde o meio do ano passado, quando houve a retomada do ciclo de alta dos juros. Na lista, também estão a concorrente Via, dona da Casas Bahia, e as companhias aéreas Azul e Gol. Veja abaixo quais foram as maiores altas da Bolsa no mês e quais cuidados tomar antes de investir...\"\n",
        "data = data.lower()\n",
        "\n",
        "stopWords = set(stopwords.words('portuguese'))\n",
        "words = word_tokenize(data)\n",
        "wordsFiltered = []\n",
        "wordsRemoved = []\n",
        "\n",
        "new_stopwords = [\"baixa\", \"inflação\", \",\", \".\"]\n",
        "stopWords.update(new_stopwords)\n",
        "\n",
        "print(stopWords)\n",
        "\n",
        "for w in words:\n",
        "    if w not in stopWords:\n",
        "        wordsFiltered.append(w)\n",
        "    else:\n",
        "        wordsRemoved.append(w)      \n",
        "\n",
        "print(\"Removido: \", wordsRemoved)\n",
        "print(\"Mantido:\", wordsFiltered)"
      ]
    }
  ]
}